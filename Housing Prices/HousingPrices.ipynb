{
 "cells": [
  {
   "cell_type": "code",
   "execution_count": 293,
   "metadata": {},
   "outputs": [],
   "source": [
    "### Generic Set Up\n",
    "\n",
    "% matplotlib inline\n",
    "\n",
    "from sklearn.linear_model import LinearRegression\n",
    "from sklearn.feature_selection import RFECV\n",
    "from sklearn.model_selection import cross_val_score\n",
    "from sklearn.preprocessing import minmax_scale\n",
    "import pandas as pd\n",
    "import matplotlib.pyplot as plt\n",
    "import numpy as np\n",
    "import seaborn as sns\n",
    "\n",
    "train = pd.read_csv('train.csv')\n",
    "train = train.drop(labels='Id', axis=1)\n",
    "holdout = pd.read_csv('test.csv')\n",
    "Id = holdout['Id']\n",
    "holdout = holdout.drop(labels='Id', axis=1)\n",
    "# train.head()\n",
    "\n",
    "### Other Common Queries"
   ]
  },
  {
   "cell_type": "code",
   "execution_count": 269,
   "metadata": {},
   "outputs": [
    {
     "data": {
      "text/plain": [
       "{'Sample_A/B': [0.5, 0.7], 'Test': 'Eliminate this Later'}"
      ]
     },
     "execution_count": 269,
     "metadata": {},
     "output_type": "execute_result"
    }
   ],
   "source": [
    "### DO NOT DELETE\n",
    "### Working Dictionary of Submission Accuracies\n",
    "# how to delete? (for 'Sample_A/B' and 'Test')\n",
    "# ['Sample_A/B'] = [0.5, 0.7]\n",
    "recorded_submissions\n",
    "\n",
    "### There's an easy way to enter these into a DataFrame, to make things neater\n",
    "### 4 columns (exluding Id) to hold:\n",
    "# model w/ hyperparameters\n",
    "# columns used\n",
    "# training accuracy\n",
    "# submission score"
   ]
  },
  {
   "cell_type": "code",
   "execution_count": 256,
   "metadata": {},
   "outputs": [
    {
     "name": "stdout",
     "output_type": "stream",
     "text": [
      "0.7951414790131207\n",
      "[116736.31883894 151922.62743704 172780.63163114 ... 171160.59534874\n",
      " 101361.99099404 252809.17623309]\n"
     ]
    }
   ],
   "source": [
    "### Quick Start Linear Regression\n",
    "### Drops object columns, treats categorical as numerical\n",
    "### But it gives an immediate baseline, can't get worse than this\n",
    "\n",
    "def drop_objects(df):\n",
    "    for column in df.columns:\n",
    "        if df[column].dtype.name == 'object':\n",
    "            df = df.drop(labels=column, axis=1)\n",
    "    return df\n",
    "\n",
    "# fill missing values with mean\n",
    "\n",
    "def mean_missing(df):\n",
    "    for col in df.columns:\n",
    "        df[col] = df[col].fillna(df[col].mean())\n",
    "    return df\n",
    "\n",
    "temp = pd.read_csv('train.csv')\n",
    "temp = drop_objects(temp)\n",
    "temp = mean_missing(temp)\n",
    "\n",
    "lr = LinearRegression()\n",
    "all_X = temp.drop(labels=['Id','SalePrice'], axis=1)\n",
    "all_y = temp['SalePrice']\n",
    "scores = cross_val_score(lr, all_X, all_y, cv=10)\n",
    "accuracy = scores.mean()\n",
    "print(accuracy)\n",
    "\n",
    "# holy crap that came back with 78% accuracy (79.5 after filling NA with mean, even as categories suffer)\n",
    "# lets submit to Kaggle for fun\n",
    "# 3788th place out of 4088\n",
    "# score of 0.26, taking RMSE of logarithms of predicted and actual SalePrice (so 0 is best)\n",
    "# should I change linear regression model fitting to use RMSE of logs instead of coefficient of determination?\n",
    "\n",
    "lr.fit(all_X, all_y)\n",
    "test = pd.read_csv('test.csv')\n",
    "Id = test['Id']\n",
    "test = test.drop(labels='Id', axis=1)\n",
    "test = drop_objects(test)\n",
    "test = mean_missing(test)\n",
    "predictions = lr.predict(test)\n",
    "print(predictions)"
   ]
  },
  {
   "cell_type": "code",
   "execution_count": 291,
   "metadata": {},
   "outputs": [
    {
     "name": "stdout",
     "output_type": "stream",
     "text": [
      "-1.303954080429281e+23\n"
     ]
    }
   ],
   "source": [
    "### Now let's try with only the object features\n",
    "\n",
    "def drop_not_objects(df):\n",
    "    for column in df.columns:\n",
    "        if df[column].dtype.name != 'object':\n",
    "            df = df.drop(labels=column, axis=1)\n",
    "    return df\n",
    "\n",
    "def fill_missing(df):\n",
    "    for col in df.columns:\n",
    "        df[col] = df[col].fillna('Missing')\n",
    "    return df\n",
    "\n",
    "all_y = train['SalePrice']\n",
    "train = drop_not_objects(train)\n",
    "train = fill_missing(train)\n",
    "train = make_dummies(train, object_columns)\n",
    "holdout = drop_not_objects(holdout)\n",
    "holdout = fill_missing(holdout)\n",
    "holdout = make_dummies(holdout, object_columns)\n",
    "\n",
    "lr = LinearRegression()\n",
    "scores = cross_val_score(lr, train, all_y, cv=10)\n",
    "accuracy = scores.mean()\n",
    "print(accuracy)"
   ]
  },
  {
   "cell_type": "code",
   "execution_count": null,
   "metadata": {
    "collapsed": true
   },
   "outputs": [],
   "source": [
    "# Kaggle Submission Function\n",
    "\n",
    "# model = training_list[2]['best_estimator']\n",
    "lr.fit(all_X, all_y)\n",
    "\n",
    "def submit(model, columns, filename='Kaggle_Submission.csv'):\n",
    "    predictions = model.predict(holdout[columns])\n",
    "    submission = pd.DataFrame({'Id': Id, 'SalePrice': predictions})\n",
    "    submission.to_csv(filename, index=False)\n",
    "    \n",
    "submit(lr, all_X, 'New_File_Name')"
   ]
  },
  {
   "cell_type": "code",
   "execution_count": 292,
   "metadata": {},
   "outputs": [
    {
     "data": {
      "text/plain": [
       "MSZoning_C (all)         0.006807\n",
       "MSZoning_FV              0.042568\n",
       "MSZoning_RH              0.010846\n",
       "MSZoning_RL              0.166965\n",
       "MSZoning_RM              0.127107\n",
       "Street_Grvl              0.004096\n",
       "Street_Pave              0.004096\n",
       "Alley_Grvl               0.033096\n",
       "Alley_Missing            0.058484\n",
       "Alley_Pave               0.027312\n",
       "LotShape_IR1             0.221762\n",
       "LotShape_IR2             0.027312\n",
       "LotShape_IR3             0.006807\n",
       "LotShape_Reg             0.232320\n",
       "LandContour_Bnk          0.041317\n",
       "LandContour_HLS          0.033096\n",
       "LandContour_Low          0.024066\n",
       "LandContour_Lvl          0.091702\n",
       "Utilities_AllPub         0.000685\n",
       "Utilities_NoSeWa         0.000685\n",
       "LotConfig_Corner         0.147789\n",
       "LotConfig_CulDSac        0.060280\n",
       "LotConfig_FR2            0.031177\n",
       "LotConfig_FR3            0.002734\n",
       "LotConfig_Inside         0.201497\n",
       "LandSlope_Gtl            0.050605\n",
       "LandSlope_Mod            0.042568\n",
       "LandSlope_Sev            0.008831\n",
       "Neighborhood_Blmngtn     0.011516\n",
       "Neighborhood_Blueste     0.001369\n",
       "                           ...   \n",
       "PavedDrive_Y             0.075488\n",
       "PoolQC_Ex                0.001369\n",
       "PoolQC_Fa                0.001369\n",
       "PoolQC_Gd                0.002052\n",
       "PoolQC_Missing           0.004775\n",
       "Fence_GdPrv              0.038804\n",
       "Fence_GdWo               0.035643\n",
       "Fence_Missing            0.155529\n",
       "Fence_MnPrv              0.096036\n",
       "Fence_MnWw               0.007483\n",
       "MiscFeature_Gar2         0.001369\n",
       "MiscFeature_Missing      0.035643\n",
       "MiscFeature_Othr         0.001369\n",
       "MiscFeature_Shed         0.032457\n",
       "MiscFeature_TenC         0.000685\n",
       "SaleType_COD             0.028604\n",
       "SaleType_CWD             0.002734\n",
       "SaleType_Con             0.001369\n",
       "SaleType_ConLD           0.006131\n",
       "SaleType_ConLI           0.003415\n",
       "SaleType_ConLw           0.003415\n",
       "SaleType_New             0.076632\n",
       "SaleType_Oth             0.002052\n",
       "SaleType_WD              0.114796\n",
       "SaleCondition_Abnorml    0.064437\n",
       "SaleCondition_AdjLand    0.002734\n",
       "SaleCondition_Alloca     0.008157\n",
       "SaleCondition_Family     0.013520\n",
       "SaleCondition_Normal     0.147350\n",
       "SaleCondition_Partial    0.078340\n",
       "Length: 268, dtype: float64"
      ]
     },
     "execution_count": 292,
     "metadata": {},
     "output_type": "execute_result"
    }
   ],
   "source": [
    "# choose a variance cutoff\n",
    "train.var()"
   ]
  },
  {
   "cell_type": "code",
   "execution_count": 294,
   "metadata": {},
   "outputs": [
    {
     "data": {
      "image/png": "[encoded data removed]",
      "text/plain": [
       "<matplotlib.figure.Figure at 0x7fcacdafea90>"
      ]
     },
     "metadata": {},
     "output_type": "display_data"
    },
    {
     "data": {
      "image/png": "[encoded data removed]",
      "text/plain": [
       "<matplotlib.figure.Figure at 0x7fcac4cf8510>"
      ]
     },
     "metadata": {},
     "output_type": "display_data"
    },
    {
     "name": "stdout",
     "output_type": "stream",
     "text": [
      "      MSSubClass MSZoning  LotFrontage  LotArea Street Alley LotShape  \\\n",
      "0             60       RL         65.0     8450   Pave   NaN      Reg   \n",
      "1             20       RL         80.0     9600   Pave   NaN      Reg   \n",
      "2             60       RL         68.0    11250   Pave   NaN      IR1   \n",
      "3             70       RL         60.0     9550   Pave   NaN      IR1   \n",
      "4             60       RL         84.0    14260   Pave   NaN      IR1   \n",
      "5             50       RL         85.0    14115   Pave   NaN      IR1   \n",
      "6             20       RL         75.0    10084   Pave   NaN      Reg   \n",
      "7             60       RL          NaN    10382   Pave   NaN      IR1   \n",
      "8             50       RM         51.0     6120   Pave   NaN      Reg   \n",
      "9            190       RL         50.0     7420   Pave   NaN      Reg   \n",
      "10            20       RL         70.0    11200   Pave   NaN      Reg   \n",
      "11            60       RL         85.0    11924   Pave   NaN      IR1   \n",
      "12            20       RL          NaN    12968   Pave   NaN      IR2   \n",
      "13            20       RL         91.0    10652   Pave   NaN      IR1   \n",
      "14            20       RL          NaN    10920   Pave   NaN      IR1   \n",
      "15            45       RM         51.0     6120   Pave   NaN      Reg   \n",
      "16            20       RL          NaN    11241   Pave   NaN      IR1   \n",
      "17            90       RL         72.0    10791   Pave   NaN      Reg   \n",
      "18            20       RL         66.0    13695   Pave   NaN      Reg   \n",
      "19            20       RL         70.0     7560   Pave   NaN      Reg   \n",
      "20            60       RL        101.0    14215   Pave   NaN      IR1   \n",
      "21            45       RM         57.0     7449   Pave  Grvl      Reg   \n",
      "22            20       RL         75.0     9742   Pave   NaN      Reg   \n",
      "23           120       RM         44.0     4224   Pave   NaN      Reg   \n",
      "24            20       RL          NaN     8246   Pave   NaN      IR1   \n",
      "25            20       RL        110.0    14230   Pave   NaN      Reg   \n",
      "26            20       RL         60.0     7200   Pave   NaN      Reg   \n",
      "27            20       RL         98.0    11478   Pave   NaN      Reg   \n",
      "28            20       RL         47.0    16321   Pave   NaN      IR1   \n",
      "29            30       RM         60.0     6324   Pave   NaN      IR1   \n",
      "...          ...      ...          ...      ...    ...   ...      ...   \n",
      "1430          60       RL         60.0    21930   Pave   NaN      IR3   \n",
      "1431         120       RL          NaN     4928   Pave   NaN      IR1   \n",
      "1432          30       RL         60.0    10800   Pave  Grvl      Reg   \n",
      "1433          60       RL         93.0    10261   Pave   NaN      IR1   \n",
      "1434          20       RL         80.0    17400   Pave   NaN      Reg   \n",
      "1435          20       RL         80.0     8400   Pave   NaN      Reg   \n",
      "1436          20       RL         60.0     9000   Pave   NaN      Reg   \n",
      "1437          20       RL         96.0    12444   Pave   NaN      Reg   \n",
      "1438          20       RM         90.0     7407   Pave   NaN      Reg   \n",
      "1439          60       RL         80.0    11584   Pave   NaN      Reg   \n",
      "1440          70       RL         79.0    11526   Pave   NaN      IR1   \n",
      "1441         120       RM          NaN     4426   Pave   NaN      Reg   \n",
      "1442          60       FV         85.0    11003   Pave   NaN      Reg   \n",
      "1443          30       RL          NaN     8854   Pave   NaN      Reg   \n",
      "1444          20       RL         63.0     8500   Pave   NaN      Reg   \n",
      "1445          85       RL         70.0     8400   Pave   NaN      Reg   \n",
      "1446          20       RL          NaN    26142   Pave   NaN      IR1   \n",
      "1447          60       RL         80.0    10000   Pave   NaN      Reg   \n",
      "1448          50       RL         70.0    11767   Pave   NaN      Reg   \n",
      "1449         180       RM         21.0     1533   Pave   NaN      Reg   \n",
      "1450          90       RL         60.0     9000   Pave   NaN      Reg   \n",
      "1451          20       RL         78.0     9262   Pave   NaN      Reg   \n",
      "1452         180       RM         35.0     3675   Pave   NaN      Reg   \n",
      "1453          20       RL         90.0    17217   Pave   NaN      Reg   \n",
      "1454          20       FV         62.0     7500   Pave  Pave      Reg   \n",
      "1455          60       RL         62.0     7917   Pave   NaN      Reg   \n",
      "1456          20       RL         85.0    13175   Pave   NaN      Reg   \n",
      "1457          70       RL         66.0     9042   Pave   NaN      Reg   \n",
      "1458          20       RL         68.0     9717   Pave   NaN      Reg   \n",
      "1459          20       RL         75.0     9937   Pave   NaN      Reg   \n",
      "\n",
      "     LandContour Utilities LotConfig    ...     PoolArea PoolQC  Fence  \\\n",
      "0            Lvl    AllPub    Inside    ...            0    NaN    NaN   \n",
      "1            Lvl    AllPub       FR2    ...            0    NaN    NaN   \n",
      "2            Lvl    AllPub    Inside    ...            0    NaN    NaN   \n",
      "3            Lvl    AllPub    Corner    ...            0    NaN    NaN   \n",
      "4            Lvl    AllPub       FR2    ...            0    NaN    NaN   \n",
      "5            Lvl    AllPub    Inside    ...            0    NaN  MnPrv   \n",
      "6            Lvl    AllPub    Inside    ...            0    NaN    NaN   \n",
      "7            Lvl    AllPub    Corner    ...            0    NaN    NaN   \n",
      "8            Lvl    AllPub    Inside    ...            0    NaN    NaN   \n",
      "9            Lvl    AllPub    Corner    ...            0    NaN    NaN   \n",
      "10           Lvl    AllPub    Inside    ...            0    NaN    NaN   \n",
      "11           Lvl    AllPub    Inside    ...            0    NaN    NaN   \n",
      "12           Lvl    AllPub    Inside    ...            0    NaN    NaN   \n",
      "13           Lvl    AllPub    Inside    ...            0    NaN    NaN   \n",
      "14           Lvl    AllPub    Corner    ...            0    NaN   GdWo   \n",
      "15           Lvl    AllPub    Corner    ...            0    NaN  GdPrv   \n",
      "16           Lvl    AllPub   CulDSac    ...            0    NaN    NaN   \n",
      "17           Lvl    AllPub    Inside    ...            0    NaN    NaN   \n",
      "18           Lvl    AllPub    Inside    ...            0    NaN    NaN   \n",
      "19           Lvl    AllPub    Inside    ...            0    NaN  MnPrv   \n",
      "20           Lvl    AllPub    Corner    ...            0    NaN    NaN   \n",
      "21           Bnk    AllPub    Inside    ...            0    NaN  GdPrv   \n",
      "22           Lvl    AllPub    Inside    ...            0    NaN    NaN   \n",
      "23           Lvl    AllPub    Inside    ...            0    NaN    NaN   \n",
      "24           Lvl    AllPub    Inside    ...            0    NaN  MnPrv   \n",
      "25           Lvl    AllPub    Corner    ...            0    NaN    NaN   \n",
      "26           Lvl    AllPub    Corner    ...            0    NaN    NaN   \n",
      "27           Lvl    AllPub    Inside    ...            0    NaN    NaN   \n",
      "28           Lvl    AllPub   CulDSac    ...            0    NaN    NaN   \n",
      "29           Lvl    AllPub    Inside    ...            0    NaN    NaN   \n",
      "...          ...       ...       ...    ...          ...    ...    ...   \n",
      "1430         Lvl    AllPub    Inside    ...            0    NaN    NaN   \n",
      "1431         Lvl    AllPub    Inside    ...            0    NaN    NaN   \n",
      "1432         Lvl    AllPub    Inside    ...            0    NaN    NaN   \n",
      "1433         Lvl    AllPub    Inside    ...            0    NaN    NaN   \n",
      "1434         Low    AllPub    Inside    ...            0    NaN    NaN   \n",
      "1435         Lvl    AllPub    Inside    ...            0    NaN  GdPrv   \n",
      "1436         Lvl    AllPub       FR2    ...            0    NaN   GdWo   \n",
      "1437         Lvl    AllPub       FR2    ...            0    NaN    NaN   \n",
      "1438         Lvl    AllPub    Inside    ...            0    NaN  MnPrv   \n",
      "1439         Lvl    AllPub    Inside    ...            0    NaN    NaN   \n",
      "1440         Bnk    AllPub    Inside    ...            0    NaN    NaN   \n",
      "1441         Lvl    AllPub    Inside    ...            0    NaN    NaN   \n",
      "1442         Lvl    AllPub    Inside    ...            0    NaN    NaN   \n",
      "1443         Lvl    AllPub    Inside    ...            0    NaN    NaN   \n",
      "1444         Lvl    AllPub       FR2    ...            0    NaN    NaN   \n",
      "1445         Lvl    AllPub    Inside    ...            0    NaN    NaN   \n",
      "1446         Lvl    AllPub   CulDSac    ...            0    NaN    NaN   \n",
      "1447         Lvl    AllPub    Inside    ...            0    NaN    NaN   \n",
      "1448         Lvl    AllPub    Inside    ...            0    NaN   GdWo   \n",
      "1449         Lvl    AllPub    Inside    ...            0    NaN    NaN   \n",
      "1450         Lvl    AllPub       FR2    ...            0    NaN    NaN   \n",
      "1451         Lvl    AllPub    Inside    ...            0    NaN    NaN   \n",
      "1452         Lvl    AllPub    Inside    ...            0    NaN    NaN   \n",
      "1453         Lvl    AllPub    Inside    ...            0    NaN    NaN   \n",
      "1454         Lvl    AllPub    Inside    ...            0    NaN    NaN   \n",
      "1455         Lvl    AllPub    Inside    ...            0    NaN    NaN   \n",
      "1456         Lvl    AllPub    Inside    ...            0    NaN  MnPrv   \n",
      "1457         Lvl    AllPub    Inside    ...            0    NaN  GdPrv   \n",
      "1458         Lvl    AllPub    Inside    ...            0    NaN    NaN   \n",
      "1459         Lvl    AllPub    Inside    ...            0    NaN    NaN   \n",
      "\n",
      "     MiscFeature MiscVal MoSold  YrSold  SaleType  SaleCondition  SalePrice  \n",
      "0            NaN       0      2    2008        WD         Normal     208500  \n",
      "1            NaN       0      5    2007        WD         Normal     181500  \n",
      "2            NaN       0      9    2008        WD         Normal     223500  \n",
      "3            NaN       0      2    2006        WD        Abnorml     140000  \n",
      "4            NaN       0     12    2008        WD         Normal     250000  \n",
      "5           Shed     700     10    2009        WD         Normal     143000  \n",
      "6            NaN       0      8    2007        WD         Normal     307000  \n",
      "7           Shed     350     11    2009        WD         Normal     200000  \n",
      "8            NaN       0      4    2008        WD        Abnorml     129900  \n",
      "9            NaN       0      1    2008        WD         Normal     118000  \n",
      "10           NaN       0      2    2008        WD         Normal     129500  \n",
      "11           NaN       0      7    2006       New        Partial     345000  \n",
      "12           NaN       0      9    2008        WD         Normal     144000  \n",
      "13           NaN       0      8    2007       New        Partial     279500  \n",
      "14           NaN       0      5    2008        WD         Normal     157000  \n",
      "15           NaN       0      7    2007        WD         Normal     132000  \n",
      "16          Shed     700      3    2010        WD         Normal     149000  \n",
      "17          Shed     500     10    2006        WD         Normal      90000  \n",
      "18           NaN       0      6    2008        WD         Normal     159000  \n",
      "19           NaN       0      5    2009       COD        Abnorml     139000  \n",
      "20           NaN       0     11    2006       New        Partial     325300  \n",
      "21           NaN       0      6    2007        WD         Normal     139400  \n",
      "22           NaN       0      9    2008        WD         Normal     230000  \n",
      "23           NaN       0      6    2007        WD         Normal     129900  \n",
      "24           NaN       0      5    2010        WD         Normal     154000  \n",
      "25           NaN       0      7    2009        WD         Normal     256300  \n",
      "26           NaN       0      5    2010        WD         Normal     134800  \n",
      "27           NaN       0      5    2010        WD         Normal     306000  \n",
      "28           NaN       0     12    2006        WD         Normal     207500  \n",
      "29           NaN       0      5    2008        WD         Normal      68500  \n",
      "...          ...     ...    ...     ...       ...            ...        ...  \n",
      "1430         NaN       0      7    2006        WD         Normal     192140  \n",
      "1431         NaN       0     10    2009        WD         Normal     143750  \n",
      "1432         NaN       0      8    2007        WD         Normal      64500  \n",
      "1433         NaN       0      5    2008        WD         Normal     186500  \n",
      "1434         NaN       0      5    2006        WD         Normal     160000  \n",
      "1435         NaN       0      7    2008       COD        Abnorml     174000  \n",
      "1436         NaN       0      5    2007        WD         Normal     120500  \n",
      "1437         NaN       0     11    2008       New        Partial     394617  \n",
      "1438         NaN       0      4    2010        WD         Normal     149700  \n",
      "1439         NaN       0     11    2007        WD         Normal     197000  \n",
      "1440         NaN       0      9    2008        WD         Normal     191000  \n",
      "1441         NaN       0      5    2008        WD         Normal     149300  \n",
      "1442         NaN       0      4    2009        WD         Normal     310000  \n",
      "1443         NaN       0      5    2009        WD         Normal     121000  \n",
      "1444         NaN       0     11    2007        WD         Normal     179600  \n",
      "1445         NaN       0      5    2007        WD         Normal     129000  \n",
      "1446         NaN       0      4    2010        WD         Normal     157900  \n",
      "1447         NaN       0     12    2007        WD         Normal     240000  \n",
      "1448         NaN       0      5    2007        WD         Normal     112000  \n",
      "1449         NaN       0      8    2006        WD        Abnorml      92000  \n",
      "1450         NaN       0      9    2009        WD         Normal     136000  \n",
      "1451         NaN       0      5    2009       New        Partial     287090  \n",
      "1452         NaN       0      5    2006        WD         Normal     145000  \n",
      "1453         NaN       0      7    2006        WD        Abnorml      84500  \n",
      "1454         NaN       0     10    2009        WD         Normal     185000  \n",
      "1455         NaN       0      8    2007        WD         Normal     175000  \n",
      "1456         NaN       0      2    2010        WD         Normal     210000  \n",
      "1457        Shed    2500      5    2010        WD         Normal     266500  \n",
      "1458         NaN       0      4    2010        WD         Normal     142125  \n",
      "1459         NaN       0      6    2008        WD         Normal     147500  \n",
      "\n",
      "[1460 rows x 80 columns]\n"
     ]
    }
   ],
   "source": [
    "### Dealing With Missing Values\n",
    "\n",
    "# calculate percent of NA values in a column\n",
    "\n",
    "def percent_missing(df, column):\n",
    "    missing = float(df[column].isna().sum())\n",
    "    total = len(df[column])\n",
    "    return missing/total\n",
    "\n",
    "# displays bar graph of % of column missing (compare train and holdout before using drop_over_x on both)\n",
    "\n",
    "def display_missing(df):\n",
    "    percent_NA = {}\n",
    "    for col in df.columns:\n",
    "        if percent_missing(df, col) == 0:\n",
    "            pass\n",
    "        else:\n",
    "            percent_NA[col] = percent_missing(df, col)\n",
    "### Next two lines should be their own function: sort_dict             \n",
    "    values = pd.Series(percent_NA.values(), index=percent_NA.keys())\n",
    "    sorted_values = values.sort_values(ascending=False)\n",
    "    sorted_values.plot.bar()\n",
    "    plt.show()\n",
    "    return sorted_values\n",
    "\n",
    "# drop columns with higher than certain % missing values\n",
    "\n",
    "def drop_over_x(df, x_percent):\n",
    "    for col in df.columns:\n",
    "        if percent_missing(df, col) >= x_percent:\n",
    "            print(col)\n",
    "            df = df.drop(labels=col, axis=1)\n",
    "    return df\n",
    "\n",
    "\n",
    "display_missing(train)\n",
    "display_missing(holdout)\n",
    "print(train)\n",
    "\n",
    "# before blindly using this, check that the missing values aren't useful\n",
    "# train = drop_over_x(train, .60) # this means FireplaceQu is still there with over 40% missing values\n",
    "# holdout = drop_over_x(holdout, .60)\n",
    "\n",
    "### new function\n",
    "### fill in missing values (does making a dummy variable make NA into 0?)"
   ]
  },
  {
   "cell_type": "code",
   "execution_count": 237,
   "metadata": {},
   "outputs": [],
   "source": [
    "# works for both int and object datatypes\n",
    "# if no missing values, drops last column to avoid dummy variable trap\n",
    "# does making a dummy variable turn NA into 0? Otherwise what do i do with missing values?\n",
    "\n",
    "def make_dummies(df, columns):\n",
    "    for column in columns:\n",
    "        dummies = pd.get_dummies(df[column], prefix=column)\n",
    "        df = pd.concat([df, dummies], axis=1)\n",
    "        if percent_missing(df, column) == 0:\n",
    "            df = df.drop(labels=column, axis=1)\n",
    "        else:\n",
    "            df = df.drop(labels=column, axis=1)\n",
    "            df = df.drop(labels=df.columns[-1], axis=1)\n",
    "    return df"
   ]
  },
  {
   "cell_type": "code",
   "execution_count": 238,
   "metadata": {
    "collapsed": true
   },
   "outputs": [
    {
     "name": "stdout",
     "output_type": "stream",
     "text": [
      "Index([u'Id', u'MSSubClass', u'MSZoning', u'LotFrontage', u'LotArea',\n",
      "       u'Street', u'Alley', u'LotShape', u'LandContour', u'Utilities',\n",
      "       u'LotConfig', u'LandSlope', u'Neighborhood', u'Condition1',\n",
      "       u'Condition2', u'BldgType', u'HouseStyle', u'OverallQual',\n",
      "       u'OverallCond', u'YearBuilt', u'YearRemodAdd', u'RoofStyle',\n",
      "       u'RoofMatl', u'Exterior1st', u'Exterior2nd', u'MasVnrType',\n",
      "       u'MasVnrArea', u'ExterQual', u'ExterCond', u'Foundation', u'BsmtQual',\n",
      "       u'BsmtCond', u'BsmtExposure', u'BsmtFinType1', u'BsmtFinSF1',\n",
      "       u'BsmtFinType2', u'BsmtFinSF2', u'BsmtUnfSF', u'TotalBsmtSF',\n",
      "       u'Heating', u'HeatingQC', u'CentralAir', u'Electrical', u'1stFlrSF',\n",
      "       u'2ndFlrSF', u'LowQualFinSF', u'GrLivArea', u'BsmtFullBath',\n",
      "       u'BsmtHalfBath', u'FullBath', u'HalfBath', u'BedroomAbvGr',\n",
      "       u'KitchenAbvGr', u'KitchenQual', u'TotRmsAbvGrd', u'Functional',\n",
      "       u'Fireplaces', u'FireplaceQu', u'GarageType', u'GarageYrBlt',\n",
      "       u'GarageFinish', u'GarageCars', u'GarageArea', u'GarageQual',\n",
      "       u'GarageCond', u'PavedDrive', u'WoodDeckSF', u'OpenPorchSF',\n",
      "       u'EnclosedPorch', u'3SsnPorch', u'ScreenPorch', u'PoolArea', u'PoolQC',\n",
      "       u'Fence', u'MiscFeature', u'MiscVal', u'MoSold', u'YrSold', u'SaleType',\n",
      "       u'SaleCondition', u'SalePrice'],\n",
      "      dtype='object')\n",
      "Index([u'Id', u'MSZoning', u'LotFrontage', u'LotArea', u'Street', u'Alley',\n",
      "       u'LotShape', u'LandContour', u'Utilities', u'LotConfig', u'LandSlope',\n",
      "       u'Neighborhood', u'Condition1', u'Condition2', u'BldgType',\n",
      "       u'HouseStyle', u'OverallQual', u'OverallCond', u'YearBuilt',\n",
      "       u'YearRemodAdd', u'RoofStyle', u'RoofMatl', u'Exterior1st',\n",
      "       u'Exterior2nd', u'MasVnrType', u'MasVnrArea', u'ExterQual',\n",
      "       u'ExterCond', u'Foundation', u'BsmtQual', u'BsmtCond', u'BsmtExposure',\n",
      "       u'BsmtFinType1', u'BsmtFinSF1', u'BsmtFinType2', u'BsmtFinSF2',\n",
      "       u'BsmtUnfSF', u'TotalBsmtSF', u'Heating', u'HeatingQC', u'CentralAir',\n",
      "       u'Electrical', u'1stFlrSF', u'2ndFlrSF', u'LowQualFinSF', u'GrLivArea',\n",
      "       u'BsmtFullBath', u'BsmtHalfBath', u'FullBath', u'HalfBath',\n",
      "       u'BedroomAbvGr', u'KitchenAbvGr', u'KitchenQual', u'TotRmsAbvGrd',\n",
      "       u'Functional', u'Fireplaces', u'FireplaceQu', u'GarageType',\n",
      "       u'GarageYrBlt', u'GarageFinish', u'GarageCars', u'GarageArea',\n",
      "       u'GarageQual', u'GarageCond', u'PavedDrive', u'WoodDeckSF',\n",
      "       u'OpenPorchSF', u'EnclosedPorch', u'3SsnPorch', u'ScreenPorch',\n",
      "       u'PoolArea', u'PoolQC', u'Fence', u'MiscFeature', u'MiscVal', u'MoSold',\n",
      "       u'YrSold', u'SaleType', u'SaleCondition', u'SalePrice',\n",
      "       u'MSSubClass_20', u'MSSubClass_30', u'MSSubClass_40', u'MSSubClass_45',\n",
      "       u'MSSubClass_50', u'MSSubClass_60', u'MSSubClass_70', u'MSSubClass_75',\n",
      "       u'MSSubClass_80', u'MSSubClass_85', u'MSSubClass_90', u'MSSubClass_120',\n",
      "       u'MSSubClass_160', u'MSSubClass_180', u'MSSubClass_190'],\n",
      "      dtype='object')\n"
     ]
    }
   ],
   "source": [
    "# over 60% missing values\n",
    "Alley\n",
    "PoolQC\n",
    "Fence\n",
    "MiscFeature\n",
    "\n",
    "# Before making dummy variables, run correlation\n",
    "I expect YearBuilt and YearRemodAdd to be correlated because the latter uses the prior\n",
    "\n",
    "# continuous to categorical (some here could also go to normalize/rescale instead)\n",
    "['LotFrontage', 'LotArea', 'YearBuilt', 'YearRemodAdd']?\n",
    "\n",
    "# categorical to continuos?\n",
    "OverallQual, OverallCond, ExterQual, ExterCond, BsmtQual, BsmtCond, BsmtExposure, HeatingQC\n",
    "\n",
    "\n",
    "# make dummy variables for\n",
    "['MSSubClass','MSZoning','Street','LotShape','LandContour','Utilities','LotConfig',\n",
    " 'LandSlope','Neighborhood','BldgType','HouseStyle','RoofMatl','MasVnrType',\n",
    "'Foundation','Heating','Electrical',]\n",
    "CentralAir - fill missing values with No\n",
    "\n",
    "# normalize/rescale\n",
    "TotalBsmtSF, 1stFlrSF, 2ndFlrSF (combine those two?)\n",
    "\n",
    "# extra\n",
    "can I combine Condition1 and Condition2?\n",
    "can I combine Exterior1st and Exterior2nd?\n",
    "BsmtFinType1 and BsmtFinType2\n",
    "BsmtFinSF1 and BsmtFinSF2\n",
    "BsmtUnfSF seems redundand\n",
    "\n",
    "\n",
    "left off at LowQualFinSF"
   ]
  },
  {
   "cell_type": "code",
   "execution_count": 278,
   "metadata": {},
   "outputs": [
    {
     "name": "stdout",
     "output_type": "stream",
     "text": [
      "MSZoning\n",
      "Street\n",
      "Alley\n",
      "LotShape\n",
      "LandContour\n",
      "Utilities\n",
      "LotConfig\n",
      "LandSlope\n",
      "Neighborhood\n",
      "Condition1\n",
      "Condition2\n",
      "BldgType\n",
      "HouseStyle\n",
      "RoofStyle\n",
      "RoofMatl\n",
      "Exterior1st\n",
      "Exterior2nd\n",
      "MasVnrType\n",
      "ExterQual\n",
      "ExterCond\n",
      "Foundation\n",
      "BsmtQual\n",
      "BsmtCond\n",
      "BsmtExposure\n",
      "BsmtFinType1\n",
      "BsmtFinType2\n",
      "Heating\n",
      "HeatingQC\n",
      "CentralAir\n",
      "Electrical\n",
      "KitchenQual\n",
      "Functional\n",
      "FireplaceQu\n",
      "GarageType\n",
      "GarageFinish\n",
      "GarageQual\n",
      "GarageCond\n",
      "PavedDrive\n",
      "PoolQC\n",
      "Fence\n",
      "MiscFeature\n",
      "SaleType\n",
      "SaleCondition\n"
     ]
    }
   ],
   "source": [
    "### As quickly as possible:\n",
    "\n",
    "# Get columns in a list\n",
    "columns = train.columns\n",
    "object_columns = []\n",
    "non_object_columns = []\n",
    "for col in columns:\n",
    "    if train[col].dtype.name == 'object':\n",
    "        object_columns.append(col)\n",
    "    else:\n",
    "        non_object_columns.append(col)\n",
    "# print(object_columns)\n",
    "# print(non_object_columns)\n",
    "\n",
    "# Identify ALL categorical columns\n",
    "for i in object_columns:\n",
    "    print(i)\n",
    "\n",
    "\n",
    "\n",
    "# (rethinking dummy function - should I drop anything at all?)\n",
    "# Make dummies for both data sets\n",
    "# Run regression, record accuracy\n",
    "# Submit, record accuracy\n",
    "# Use RFECV, repeat last two steps. Use GridSearchCV, repeat last two steps\n",
    "### Only THEN approach problem by reading tutorial, carefully considering features, using correlation, etc.\n",
    "### For Tutorial, record new advice under some part of the four step process\n",
    "### Review Titanic Competition and do the same (Note Linear vs Logistic techniques)"
   ]
  },
  {
   "cell_type": "code",
   "execution_count": 251,
   "metadata": {},
   "outputs": [
    {
     "data": {
      "image/png": "[encoded data removed]",
      "text/plain": [
       "<matplotlib.figure.Figure at 0x7fcac495d190>"
      ]
     },
     "metadata": {},
     "output_type": "display_data"
    }
   ],
   "source": [
    "def plot_correlation_heatmap(df):\n",
    "    corr = df.corr()\n",
    "    \n",
    "    sns.set(style=\"white\")\n",
    "    mask = np.zeros_like(corr, dtype=np.bool)\n",
    "    mask[np.triu_indices_from(mask)] = True\n",
    "\n",
    "    f, ax = plt.subplots(figsize=(11, 9))\n",
    "    cmap = sns.diverging_palette(220, 10, as_cmap=True)\n",
    "\n",
    "\n",
    "    sns.heatmap(corr, mask=mask, cmap=cmap, vmax=.3, center=0,\n",
    "            square=True, linewidths=.5, cbar_kws={\"shrink\": .5})\n",
    "    plt.show()\n",
    "\n",
    "plot_correlation_heatmap(train)"
   ]
  },
  {
   "cell_type": "code",
   "execution_count": 75,
   "metadata": {},
   "outputs": [],
   "source": [
    "# fill missing values with mean\n",
    "\n",
    "def process_missing(df):\n",
    "    for col in df.columns:\n",
    "        df[col] = df[col].fillna(df[col].mean())\n",
    "    return df"
   ]
  },
  {
   "cell_type": "code",
   "execution_count": 253,
   "metadata": {
    "collapsed": true
   },
   "outputs": [
    {
     "name": "stdout",
     "output_type": "stream",
     "text": [
      "object     39\n",
      "int64      34\n",
      "float64     3\n",
      "dtype: int64\n",
      "('Id', dtype('int64'))\n",
      "('MSSubClass', dtype('int64'))\n",
      "('MSZoning', dtype('O'))\n",
      "('LotFrontage', dtype('float64'))\n",
      "('LotArea', dtype('int64'))\n",
      "('Street', dtype('O'))\n",
      "('LotShape', dtype('O'))\n",
      "('LandContour', dtype('O'))\n",
      "('Utilities', dtype('O'))\n",
      "('LotConfig', dtype('O'))\n",
      "('LandSlope', dtype('O'))\n",
      "('Neighborhood', dtype('O'))\n",
      "('Condition1', dtype('O'))\n",
      "('Condition2', dtype('O'))\n",
      "('BldgType', dtype('O'))\n",
      "('HouseStyle', dtype('O'))\n",
      "('OverallQual', dtype('int64'))\n",
      "('OverallCond', dtype('int64'))\n",
      "('YearBuilt', dtype('int64'))\n",
      "('YearRemodAdd', dtype('int64'))\n",
      "('RoofStyle', dtype('O'))\n",
      "('RoofMatl', dtype('O'))\n",
      "('Exterior1st', dtype('O'))\n",
      "('Exterior2nd', dtype('O'))\n",
      "('MasVnrType', dtype('O'))\n",
      "('MasVnrArea', dtype('float64'))\n",
      "('ExterQual', dtype('O'))\n",
      "('ExterCond', dtype('O'))\n",
      "('Foundation', dtype('O'))\n",
      "('BsmtQual', dtype('O'))\n",
      "('BsmtCond', dtype('O'))\n",
      "('BsmtExposure', dtype('O'))\n",
      "('BsmtFinType1', dtype('O'))\n",
      "('BsmtFinSF1', dtype('int64'))\n",
      "('BsmtFinType2', dtype('O'))\n",
      "('BsmtFinSF2', dtype('int64'))\n",
      "('BsmtUnfSF', dtype('int64'))\n",
      "('TotalBsmtSF', dtype('int64'))\n",
      "('Heating', dtype('O'))\n",
      "('HeatingQC', dtype('O'))\n",
      "('CentralAir', dtype('O'))\n",
      "('Electrical', dtype('O'))\n",
      "('1stFlrSF', dtype('int64'))\n",
      "('2ndFlrSF', dtype('int64'))\n",
      "('LowQualFinSF', dtype('int64'))\n",
      "('GrLivArea', dtype('int64'))\n",
      "('BsmtFullBath', dtype('int64'))\n",
      "('BsmtHalfBath', dtype('int64'))\n",
      "('FullBath', dtype('int64'))\n",
      "('HalfBath', dtype('int64'))\n",
      "('BedroomAbvGr', dtype('int64'))\n",
      "('KitchenAbvGr', dtype('int64'))\n",
      "('KitchenQual', dtype('O'))\n",
      "('TotRmsAbvGrd', dtype('int64'))\n",
      "('Functional', dtype('O'))\n",
      "('Fireplaces', dtype('int64'))\n",
      "('FireplaceQu', dtype('O'))\n",
      "('GarageType', dtype('O'))\n",
      "('GarageYrBlt', dtype('float64'))\n",
      "('GarageFinish', dtype('O'))\n",
      "('GarageCars', dtype('int64'))\n",
      "('GarageArea', dtype('int64'))\n",
      "('GarageQual', dtype('O'))\n",
      "('GarageCond', dtype('O'))\n",
      "('PavedDrive', dtype('O'))\n",
      "('WoodDeckSF', dtype('int64'))\n",
      "('OpenPorchSF', dtype('int64'))\n",
      "('EnclosedPorch', dtype('int64'))\n",
      "('3SsnPorch', dtype('int64'))\n",
      "('ScreenPorch', dtype('int64'))\n",
      "('PoolArea', dtype('int64'))\n",
      "('MiscVal', dtype('int64'))\n",
      "('MoSold', dtype('int64'))\n",
      "('YrSold', dtype('int64'))\n",
      "('SaleType', dtype('O'))\n",
      "('SaleCondition', dtype('O'))\n"
     ]
    },
    {
     "ename": "ValueError",
     "evalue": "at least one of include or exclude must be nonempty",
     "output_type": "error",
     "traceback": [
      "\u001b[0;31m---------------------------------------------------------------------------\u001b[0m",
      "\u001b[0;31mValueError\u001b[0m                                Traceback (most recent call last)",
      "\u001b[0;32m<ipython-input-253-27525d6f9c62>\u001b[0m in \u001b[0;36m<module>\u001b[0;34m()\u001b[0m\n\u001b[1;32m      9\u001b[0m     \u001b[0;32mprint\u001b[0m\u001b[0;34m(\u001b[0m\u001b[0mcolumn\u001b[0m\u001b[0;34m,\u001b[0m \u001b[0mtrain\u001b[0m\u001b[0;34m[\u001b[0m\u001b[0mcolumn\u001b[0m\u001b[0;34m]\u001b[0m\u001b[0;34m.\u001b[0m\u001b[0mdtype\u001b[0m\u001b[0;34m)\u001b[0m\u001b[0;34m\u001b[0m\u001b[0m\n\u001b[1;32m     10\u001b[0m \u001b[0;34m\u001b[0m\u001b[0m\n\u001b[0;32m---> 11\u001b[0;31m \u001b[0mtrain\u001b[0m\u001b[0;34m.\u001b[0m\u001b[0mselect_dtypes\u001b[0m\u001b[0;34m(\u001b[0m\u001b[0;34m)\u001b[0m\u001b[0;34m\u001b[0m\u001b[0m\n\u001b[0m",
      "\u001b[0;32m/home/bberastain/.local/lib/python2.7/site-packages/pandas/core/frame.pyc\u001b[0m in \u001b[0;36mselect_dtypes\u001b[0;34m(self, include, exclude)\u001b[0m\n\u001b[1;32m   2450\u001b[0m \u001b[0;34m\u001b[0m\u001b[0m\n\u001b[1;32m   2451\u001b[0m         \u001b[0;32mif\u001b[0m \u001b[0;32mnot\u001b[0m \u001b[0many\u001b[0m\u001b[0;34m(\u001b[0m\u001b[0mselection\u001b[0m\u001b[0;34m)\u001b[0m\u001b[0;34m:\u001b[0m\u001b[0;34m\u001b[0m\u001b[0m\n\u001b[0;32m-> 2452\u001b[0;31m             raise ValueError('at least one of include or exclude must be '\n\u001b[0m\u001b[1;32m   2453\u001b[0m                              'nonempty')\n\u001b[1;32m   2454\u001b[0m \u001b[0;34m\u001b[0m\u001b[0m\n",
      "\u001b[0;31mValueError\u001b[0m: at least one of include or exclude must be nonempty"
     ]
    }
   ],
   "source": [
    "# value counts of datatypes of columns\n",
    "\n",
    "i = pd.Series([train[column].dtype for column in train.columns])\n",
    "print(i.value_counts())\n",
    "\n",
    "# show column names with datatype\n",
    "\n",
    "for column in train.columns:\n",
    "    print(column, train[column].dtype)\n",
    "    \n",
    "train.select_dtypes()"
   ]
  },
  {
   "cell_type": "code",
   "execution_count": 106,
   "metadata": {
    "scrolled": false
   },
   "outputs": [
    {
     "data": {
      "text/plain": [
       "<matplotlib.axes._subplots.AxesSubplot at 0x7fcacdab09d0>"
      ]
     },
     "execution_count": 106,
     "metadata": {},
     "output_type": "execute_result"
    },
    {
     "data": {
      "image/png": "[encoded data removed]",
      "text/plain": [
       "<matplotlib.figure.Figure at 0x7fcacde6d650>"
      ]
     },
     "metadata": {},
     "output_type": "display_data"
    }
   ],
   "source": [
    "pivot = train.pivot_table(index='MSSubClass', values='SalePrice')\n",
    "pivot.plot.bar()"
   ]
  },
  {
   "cell_type": "code",
   "execution_count": 169,
   "metadata": {},
   "outputs": [
    {
     "name": "stdout",
     "output_type": "stream",
     "text": [
      "0.0554794520548\n"
     ]
    }
   ],
   "source": [
    "# normalize/rescale columns\n",
    "\n",
    "from sklearn.preprocessing import minmax_scale\n",
    "\n",
    "def rescale(df, column):\n",
    "    df[col + '_scaled'] = minmax_scale(train[column])\n",
    "    # df = df.drop(labels=column, axis=1)\n",
    "    return df\n",
    "\n",
    "# for column in column_list:\n",
    "#     df = rescale(df, column)"
   ]
  },
  {
   "cell_type": "code",
   "execution_count": 12,
   "metadata": {},
   "outputs": [
    {
     "name": "stdout",
     "output_type": "stream",
     "text": [
      "81\n"
     ]
    }
   ],
   "source": [
    "columns = ['MSSubClass','MSZoning']\n",
    "for col in columns:\n",
    "    train = make_dummies(train, col)\n",
    "    holdout = make_dummies(holdout, col)"
   ]
  },
  {
   "cell_type": "code",
   "execution_count": 13,
   "metadata": {},
   "outputs": [
    {
     "name": "stdout",
     "output_type": "stream",
     "text": [
      "85\n"
     ]
    }
   ],
   "source": [
    "temp = make_dummies(temp, 'MSZoning')\n",
    "print(len(temp.columns))"
   ]
  },
  {
   "cell_type": "code",
   "execution_count": 15,
   "metadata": {},
   "outputs": [
    {
     "name": "stdout",
     "output_type": "stream",
     "text": [
      "99\n"
     ]
    }
   ],
   "source": [
    "temp = make_dummies(temp, 'MSSubClass')\n",
    "print(len(temp.columns))"
   ]
  },
  {
   "cell_type": "code",
   "execution_count": 26,
   "metadata": {
    "collapsed": true
   },
   "outputs": [
    {
     "data": {
      "text/plain": [
       "<matplotlib.axes._subplots.AxesSubplot at 0x7fcacdd77410>"
      ]
     },
     "execution_count": 26,
     "metadata": {},
     "output_type": "execute_result"
    },
    {
     "data": {
      "image/png": "[encoded data removed]",
      "text/plain": [
       "<matplotlib.figure.Figure at 0x7fcacdcca090>"
      ]
     },
     "metadata": {},
     "output_type": "display_data"
    }
   ],
   "source": [
    "train['MSSubClass'].hist()"
   ]
  },
  {
   "cell_type": "code",
   "execution_count": 27,
   "metadata": {
    "collapsed": true
   },
   "outputs": [
    {
     "data": {
      "text/plain": [
       "<matplotlib.axes._subplots.AxesSubplot at 0x7fcacdcf0e10>"
      ]
     },
     "execution_count": 27,
     "metadata": {},
     "output_type": "execute_result"
    },
    {
     "data": {
      "image/png": "[encoded data removed]",
      "text/plain": [
       "<matplotlib.figure.Figure at 0x7fcacdc899d0>"
      ]
     },
     "metadata": {},
     "output_type": "display_data"
    }
   ],
   "source": []
  },
  {
   "cell_type": "raw",
   "metadata": {},
   "source": [
    "train.pivot_table(index='MSZoning', values='SalePrice')"
   ]
  },
  {
   "cell_type": "raw",
   "metadata": {},
   "source": [
    "def process_age(df):\n",
    "    \"\"\"Process the Age column into pre-defined 'bins' \n",
    "\n",
    "    Usage\n",
    "    ------\n",
    "\n",
    "    train = process_age(train)\n",
    "    \"\"\"\n",
    "    df[\"Age\"] = df[\"Age\"].fillna(-0.5)\n",
    "    cut_points = [-1,0,5,12,18,35,60,100]\n",
    "    label_names = [\"Missing\",\"Infant\",\"Child\",\"Teenager\",\"Young Adult\",\"Adult\",\"Senior\"]\n",
    "    df[\"Age_categories\"] = pd.cut(df[\"Age\"],cut_points,labels=label_names)\n",
    "    return df\n",
    "\n",
    "def process_fare(df):\n",
    "    \"\"\"Process the Fare column into pre-defined 'bins' \n",
    "\n",
    "    Usage\n",
    "    ------\n",
    "\n",
    "    train = process_fare(train)\n",
    "    \"\"\"\n",
    "    cut_points = [-1,12,50,100,1000]\n",
    "    label_names = [\"0-12\",\"12-50\",\"50-100\",\"100+\"]\n",
    "    df[\"Fare_categories\"] = pd.cut(df[\"Fare\"],cut_points,labels=label_names)\n",
    "    return df\n",
    "\n",
    "def process_cabin(df):\n",
    "    \"\"\"Process the Cabin column into pre-defined 'bins' \n",
    "\n",
    "    Usage\n",
    "    ------\n",
    "\n",
    "    train process_cabin(train)\n",
    "    \"\"\"\n",
    "    df[\"Cabin_type\"] = df[\"Cabin\"].str[0]\n",
    "    df[\"Cabin_type\"] = df[\"Cabin_type\"].fillna(\"Unknown\")\n",
    "    df = df.drop('Cabin',axis=1)\n",
    "    return df\n",
    "\n",
    "def process_titles(df):\n",
    "    \"\"\"Extract and categorize the title from the name column \n",
    "\n",
    "    Usage\n",
    "    ------\n",
    "\n",
    "    train = process_titles(train)\n",
    "    \"\"\"\n",
    "    titles = {\n",
    "        \"Mr\" :         \"Mr\",\n",
    "        \"Mme\":         \"Mrs\",\n",
    "        \"Ms\":          \"Mrs\",\n",
    "        \"Mrs\" :        \"Mrs\",\n",
    "        \"Master\" :     \"Master\",\n",
    "        \"Mlle\":        \"Miss\",\n",
    "        \"Miss\" :       \"Miss\",\n",
    "        \"Capt\":        \"Officer\",\n",
    "        \"Col\":         \"Officer\",\n",
    "        \"Major\":       \"Officer\",\n",
    "        \"Dr\":          \"Officer\",\n",
    "        \"Rev\":         \"Officer\",\n",
    "        \"Jonkheer\":    \"Royalty\",\n",
    "        \"Don\":         \"Royalty\",\n",
    "        \"Sir\" :        \"Royalty\",\n",
    "        \"Countess\":    \"Royalty\",\n",
    "        \"Dona\":        \"Royalty\",\n",
    "        \"Lady\" :       \"Royalty\"\n",
    "    }\n",
    "    extracted_titles = df[\"Name\"].str.extract(' ([A-Za-z]+)\\.',expand=False)\n",
    "    df[\"Title\"] = extracted_titles.map(titles)\n",
    "    return df"
   ]
  },
  {
   "cell_type": "code",
   "execution_count": 31,
   "metadata": {},
   "outputs": [],
   "source": [
    "from sklearn.ensemble import RandomForestClassifier\n",
    "\n",
    "def select_features(df):\n",
    "    df = df.dropna(axis=1)\n",
    "    for column in df.columns:\n",
    "        if (df[column].dtype.name == 'object') or (df[column].dtype.name == 'category'):\n",
    "            df = df.drop(labels=column, axis=1)\n",
    "    all_X = df.drop(labels=['PassengerId', 'Survived'], axis=1)\n",
    "    all_y = df['Survived']\n",
    "    clf = RandomForestClassifier(random_state=1)\n",
    "    selector = RFECV(clf, cv=10)\n",
    "    selector.fit(all_X, all_y)\n",
    "    print(all_X.columns[selector.support_])\n",
    "    return all_X.columns[selector.support_]\n",
    "\n",
    "optimized_columns = select_features(train)"
   ]
  }
 ],
 "metadata": {
  "kernelspec": {
   "display_name": "Python 2",
   "language": "python",
   "name": "python2"
  },
  "language_info": {
   "codemirror_mode": {
    "name": "ipython",
    "version": 2
   },
   "file_extension": ".py",
   "mimetype": "text/x-python",
   "name": "python",
   "nbconvert_exporter": "python",
   "pygments_lexer": "ipython2",
   "version": "2.7.14"
  }
 },
 "nbformat": 4,
 "nbformat_minor": 2
}
